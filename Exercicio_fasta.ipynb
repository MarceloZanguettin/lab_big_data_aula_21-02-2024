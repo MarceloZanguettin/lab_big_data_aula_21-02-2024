{
 "cells": [
  {
   "cell_type": "code",
   "execution_count": 28,
   "metadata": {},
   "outputs": [],
   "source": [
    "def ler_fasta(arquivo):\n",
    "    sequencia = ''\n",
    "    with open(arquivo, 'r') as fasta:\n",
    "            sequencia = ''\n",
    "            for linha in fasta:\n",
    "                if not linha.startswith('>'):\n",
    "                    sequencia += linha.strip()\n",
    "\n",
    "    return sequencia"
   ]
  },
  {
   "cell_type": "code",
   "execution_count": 29,
   "metadata": {},
   "outputs": [],
   "source": [
    "#testando\n",
    "\n",
    "lista = ler_fasta(\"sequence.fasta\")"
   ]
  },
  {
   "cell_type": "code",
   "execution_count": 30,
   "metadata": {},
   "outputs": [
    {
     "name": "stdout",
     "output_type": "stream",
     "text": [
      "A quantidade de letras A é de:  9709674\n",
      "A quantidade de letras C é de:  5435374\n",
      "A quantidade de letras G é de:  5421151\n",
      "A quantidade de letras T é de:  9697113\n",
      "A quantidade total de letras é de:  30263312\n"
     ]
    }
   ],
   "source": [
    "quantidade_A = lista.count(\"A\")\n",
    "print(\"A quantidade de letras A é de: \", quantidade_A)\n",
    "quantidade_C = lista.count(\"C\")\n",
    "print(\"A quantidade de letras C é de: \", quantidade_C)\n",
    "quantidade_G = lista.count(\"G\")\n",
    "print(\"A quantidade de letras G é de: \", quantidade_G)\n",
    "quantidade_T = lista.count(\"T\")\n",
    "print(\"A quantidade de letras T é de: \", quantidade_T)\n",
    "quantidade_total = quantidade_A + quantidade_C + quantidade_G + quantidade_T\n",
    "print(\"A quantidade total de letras é de: \", quantidade_total)"
   ]
  },
  {
   "cell_type": "code",
   "execution_count": 37,
   "metadata": {},
   "outputs": [
    {
     "name": "stdout",
     "output_type": "stream",
     "text": [
      "A porcentagem de A na lista é de:  32.08 %\n",
      "A porcentagem de C na lista é de:  17.96 %\n",
      "A porcentagem de T na lista é de:  32.04 %\n",
      "A porcentagem de G na lista é de:  17.91 %\n"
     ]
    }
   ],
   "source": [
    "percentual_A = quantidade_A/quantidade_total\n",
    "print(\"A porcentagem de A na lista é de: \", round(percentual_A*100,2),\"%\")\n",
    "percentual_C = quantidade_C/quantidade_total\n",
    "print(\"A porcentagem de C na lista é de: \", round(percentual_C*100,2),\"%\")\n",
    "percentual_T = quantidade_T/quantidade_total\n",
    "print(\"A porcentagem de T na lista é de: \", round(percentual_T*100,2),\"%\")\n",
    "percentual_G = quantidade_G/quantidade_total\n",
    "print(\"A porcentagem de G na lista é de: \", round(percentual_G*100,2),\"%\")"
   ]
  }
 ],
 "metadata": {
  "kernelspec": {
   "display_name": "Python 3",
   "language": "python",
   "name": "python3"
  },
  "language_info": {
   "codemirror_mode": {
    "name": "ipython",
    "version": 3
   },
   "file_extension": ".py",
   "mimetype": "text/x-python",
   "name": "python",
   "nbconvert_exporter": "python",
   "pygments_lexer": "ipython3",
   "version": "3.12.0"
  }
 },
 "nbformat": 4,
 "nbformat_minor": 2
}
