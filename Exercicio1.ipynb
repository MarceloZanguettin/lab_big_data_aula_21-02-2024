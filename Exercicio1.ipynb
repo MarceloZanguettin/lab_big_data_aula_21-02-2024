{
 "cells": [
  {
   "cell_type": "markdown",
   "metadata": {},
   "source": [
    "<h1>Guia para utilizar média, mediana e moda</h1>\n",
    "\n",
    "<h2>Discente: Marcelo Zanguettin Pereira | Data: 21/02/2024</h2>\n",
    "\n",
    "<p>Para realizar o calculo da média, mediana e moda em uma base de dados, precisamos primeiramente importar as bibliotecas statistics e random.</p>"
   ]
  },
  {
   "cell_type": "code",
   "execution_count": 1,
   "metadata": {},
   "outputs": [],
   "source": [
    "import random \n",
    "import statistics"
   ]
  },
  {
   "cell_type": "markdown",
   "metadata": {},
   "source": [
    "<p>Após feita as importações, precisamos utilizar uma base de dados para fazer os calculos necessários. Para tanto, iremos criar uma array de uma unica dimensão com 1000 valores que variam entre 0 e 100 como se fosse representar a idade de 1000 pessoas.</p>"
   ]
  },
  {
   "cell_type": "code",
   "execution_count": 2,
   "metadata": {},
   "outputs": [
    {
     "data": {
      "text/plain": [
       "[52, 38, 35, 80, 11]"
      ]
     },
     "execution_count": 2,
     "metadata": {},
     "output_type": "execute_result"
    }
   ],
   "source": [
    "idades =[]\n",
    "\n",
    "for i in range(1000):\n",
    "  idades.append(random.randint(0,100))\n",
    "\n",
    "idades[0:5]"
   ]
  },
  {
   "cell_type": "markdown",
   "metadata": {},
   "source": [
    "<p>Agora iremos realizar os calculos necessários, note que iremos apenas puxar as funções presentes dentro da biblioteca statistics</p>"
   ]
  },
  {
   "cell_type": "code",
   "execution_count": 3,
   "metadata": {},
   "outputs": [
    {
     "name": "stdout",
     "output_type": "stream",
     "text": [
      "Média das idades:  49.558\n",
      "Mediana das idades:  50.0\n",
      "Moda das idades:  30\n"
     ]
    }
   ],
   "source": [
    "media = statistics.mean(idades)\n",
    "mediana = statistics.median(idades)\n",
    "moda = statistics.mode(idades)\n",
    "\n",
    "print(\"Média das idades: \", media)\n",
    "print(\"Mediana das idades: \", mediana)\n",
    "print(\"Moda das idades: \", moda)"
   ]
  },
  {
   "cell_type": "markdown",
   "metadata": {},
   "source": [
    "<p>Pronto, fizemos os calculos da média, mediana e moda da base de dados que criamos.</p>"
   ]
  }
 ],
 "metadata": {
  "kernelspec": {
   "display_name": "Python 3",
   "language": "python",
   "name": "python3"
  },
  "language_info": {
   "codemirror_mode": {
    "name": "ipython",
    "version": 3
   },
   "file_extension": ".py",
   "mimetype": "text/x-python",
   "name": "python",
   "nbconvert_exporter": "python",
   "pygments_lexer": "ipython3",
   "version": "3.12.0"
  }
 },
 "nbformat": 4,
 "nbformat_minor": 2
}
